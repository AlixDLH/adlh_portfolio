{
 "cells": [
  {
   "cell_type": "markdown",
   "id": "cab86a18",
   "metadata": {},
   "source": [
    "# <u> ID5059 Practical 01 </u>  \n",
    "\n",
    "Student number: 110022991\n",
    "\n",
    "code copied from lecture notes ID5059\n",
    "***"
   ]
  },
  {
   "cell_type": "markdown",
   "id": "5d6c33e6",
   "metadata": {},
   "source": [
    "# 1. Frame the problem\n",
    "\n",
    "### <u>task</u>: Predict how much a property will sell for   \n",
    "Supervised learning: we want to predict a number/value depending on a certain number of features  \n",
    "  - Most likely a regression-based model\n",
    " \n",
    "### Select performance measure:  \n",
    "  - RMSE (Root Mean Square Error)\n",
    "  - MAE (Mean Absolute error)\n",
    "  - R^2 Score\n",
    "    \n",
    "### Check Assumptions:   \n",
    "Training/testing sets:  \n",
    "  - Before 2017 (train_set) and 2017 and after (test_set)  \n",
    "    \n",
    "Features used for prediction:  \n",
    "  - Property type (column 5)  \n",
    "  - Estate type (column 7)  \n",
    "  - London (1) or not-London (0) (column 12)  \n",
    "  - Price (column 2) = y (actual) and y_hat (predicted)\n",
    "\n",
    "### Build work environement"
   ]
  },
  {
   "cell_type": "code",
   "execution_count": 1,
   "id": "67e471d6",
   "metadata": {},
   "outputs": [],
   "source": [
    "# Python ≥3.5 is required\n",
    "import sys\n",
    "assert sys.version_info >= (3, 5)\n",
    "\n",
    "# Scikit-Learn ≥0.20 is required\n",
    "import sklearn\n",
    "assert sklearn.__version__ >= \"0.20\"\n",
    "\n",
    "# Common imports\n",
    "import os\n",
    "import numpy as np\n",
    "\n",
    "# to make this notebook's output stable across runs\n",
    "np.random.seed(86)\n",
    "\n",
    "# To plot pretty figures\n",
    "%matplotlib inline\n",
    "import matplotlib as mpl\n",
    "import matplotlib.pyplot as plt\n",
    "mpl.rc('axes', labelsize = 14)\n",
    "mpl.rc('xtick', labelsize = 12)\n",
    "mpl.rc('ytick', labelsize = 12)\n",
    "\n",
    "# Where to save the figures\n",
    "PROJECT_ROOT_DIR = \".\"\n",
    "CHAPTER_ID = \"end_to_end_project\"\n",
    "IMAGES_PATH = os.path.join(PROJECT_ROOT_DIR, \"images\", CHAPTER_ID)\n",
    "os.makedirs(IMAGES_PATH, exist_ok = True)\n",
    "\n",
    "def save_fig(fig_id, tight_layout = True, fig_extension=\"png\", resolution = 300):\n",
    "    path = os.path.join(IMAGES_PATH, fig_id + \".\" + fig_extension)\n",
    "    print(\"Saving figure\", fig_id)\n",
    "    if tight_layout:\n",
    "        plt.tight_layout()\n",
    "    plt.savefig(path, format = fig_extension, dpi = resolution)"
   ]
  },
  {
   "cell_type": "markdown",
   "id": "f7ba8ba4",
   "metadata": {},
   "source": [
    "# 2. Get the data\n",
    "\n",
    "data source: UK government's land registry data"
   ]
  },
  {
   "cell_type": "code",
   "execution_count": null,
   "id": "4dd98823",
   "metadata": {},
   "outputs": [],
   "source": [
    "import tarfile\n",
    "import urllib.request\n",
    "\n",
    "DOWNLOAD_ROOT = \"http://prod.publicdata.landregistry.gov.uk.s3-website-eu-west-1.amazonaws.com/pp-complete.csv\"\n",
    "PRICE_PAID_PATH = os.path.join(\"datasets\", \"price_paid\")\n",
    "PRICE_PAID_URL = DOWNLOAD_ROOT + \"datasets/price_paid/price_paid.tgz\"\n",
    "\n",
    "def fetch_price_paid_data(price_paid_url = PRICE_PAID_URL, price_paid_path = PRICE_PAID_PATH):\n",
    "    if not os.path.isdir(price_paid_path):\n",
    "        os.makedirs(price_paid_path)\n",
    "    tgz_path = os.path.join(price_paid_path, \"price_paid.tgz\")\n",
    "    urllib.request.urlretrieve(price_paid_url, tgz_path)\n",
    "    price_paid_tgz = tarfile.open(tgz_path)\n",
    "    price_paid_tgz.extractall(path = price_paid_path)\n",
    "    price_paid_tgz.close()"
   ]
  },
  {
   "cell_type": "code",
   "execution_count": null,
   "id": "8617e80a",
   "metadata": {},
   "outputs": [],
   "source": [
    "fetch_price_paid_data()"
   ]
  },
  {
   "cell_type": "code",
   "execution_count": null,
   "id": "197ce023",
   "metadata": {},
   "outputs": [],
   "source": []
  }
 ],
 "metadata": {
  "kernelspec": {
   "display_name": "Python 3",
   "language": "python",
   "name": "python3"
  },
  "language_info": {
   "codemirror_mode": {
    "name": "ipython",
    "version": 3
   },
   "file_extension": ".py",
   "mimetype": "text/x-python",
   "name": "python",
   "nbconvert_exporter": "python",
   "pygments_lexer": "ipython3",
   "version": "3.8.8"
  }
 },
 "nbformat": 4,
 "nbformat_minor": 5
}
